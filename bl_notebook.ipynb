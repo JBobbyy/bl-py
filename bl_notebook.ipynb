{
 "cells": [
  {
   "cell_type": "markdown",
   "id": "fe84a81e",
   "metadata": {},
   "source": [
    "# Black-Litterman Model\n",
    "Implementation of the Black-Litterman on an optimal portfolio:\n",
    "- EGB0          -> ICE BoA Euro Treasury Bill Index\n",
    "- GJI0          -> ICE BoA All Maturity Italy Government Index\n",
    "- JHUCXEHE      -> JP Morgan GBI Global ex-EMU Hedged EUR\n",
    "- JEEXXITE      -> JP Morgan GBI EMU ex Italy EUR\n",
    "- GCXZ          -> ICE BoA Global Large Cap Corporate ex-Euro Index\n",
    "- NDDLEMU       -> MSCI EMU Net Total Return Local Index\n",
    "- MXWOHEUR      -> MSCI World 100% Hedged Euro Net Total Return Index\n",
    "\n",
    "In the Black-Litterman a key aspect of the model calculation is the use Views. These are the opinions one investor has on the market performance."
   ]
  },
  {
   "cell_type": "code",
   "execution_count": 1,
   "id": "35ad0ff6-f603-47bf-be74-93cfcb0ea3a5",
   "metadata": {},
   "outputs": [
    {
     "name": "stderr",
     "output_type": "stream",
     "text": [
      "C:\\Users\\Gianlorenzo\\AppData\\Local\\Temp\\ipykernel_3048\\4148815678.py:5: MatplotlibDeprecationWarning: The seaborn styles shipped by Matplotlib are deprecated since 3.6, as they no longer correspond to the styles shipped by seaborn. However, they will remain available as 'seaborn-v0_8-<style>'. Alternatively, directly use the seaborn API instead.\n",
      "  plt.style.use('seaborn')\n"
     ]
    }
   ],
   "source": [
    "import numpy as np\n",
    "import pandas as pd\n",
    "import matplotlib.pyplot as plt\n",
    "import seaborn as sns\n",
    "plt.style.use('seaborn')\n",
    "sns.set_palette('cubehelix')\n",
    "plt.rcParams['figure.figsize'] = [8, 4.5]"
   ]
  },
  {
   "cell_type": "code",
   "execution_count": 2,
   "id": "c255a102-9b12-431a-b29d-90658693f0f2",
   "metadata": {},
   "outputs": [],
   "source": [
    "TAU = 0.05\n",
    "\n",
    "date = \"2022-09-30\"\n",
    "oneyearbefore = date[:2] + str(int(date[2:4]) - 1) + date[4:]\n",
    "nviews = 4"
   ]
  },
  {
   "cell_type": "code",
   "execution_count": 3,
   "id": "df7ef243-b90a-4675-8b96-04676f4433a8",
   "metadata": {},
   "outputs": [],
   "source": [
    "result = pd.DataFrame(columns=[\"Gestore\", \"Market pft excess return\", \"BL pft excess return\",\n",
    "                               \"GJI0\", \"JHUCXEHE\", \"JEEXXITE\", \"ER00\", \"GCXZ\", \"NDDLEMU\", \"MXWOHEUR\"])"
   ]
  },
  {
   "cell_type": "code",
   "execution_count": 5,
   "id": "89b6686f-afe5-43a2-9c8d-7e56835ed5dc",
   "metadata": {},
   "outputs": [
    {
     "data": {
      "text/html": [
       "<div>\n",
       "<style scoped>\n",
       "    .dataframe tbody tr th:only-of-type {\n",
       "        vertical-align: middle;\n",
       "    }\n",
       "\n",
       "    .dataframe tbody tr th {\n",
       "        vertical-align: top;\n",
       "    }\n",
       "\n",
       "    .dataframe thead th {\n",
       "        text-align: right;\n",
       "    }\n",
       "</style>\n",
       "<table border=\"1\" class=\"dataframe\">\n",
       "  <thead>\n",
       "    <tr style=\"text-align: right;\">\n",
       "      <th></th>\n",
       "      <th>EGB0</th>\n",
       "      <th>GJI0</th>\n",
       "      <th>JHUCXEHE</th>\n",
       "      <th>JEEXXITE</th>\n",
       "      <th>ER00</th>\n",
       "      <th>GCXZ</th>\n",
       "      <th>NDDLEMU</th>\n",
       "      <th>MXWOHEUR</th>\n",
       "    </tr>\n",
       "  </thead>\n",
       "  <tbody>\n",
       "    <tr>\n",
       "      <th>1998-12-31</th>\n",
       "      <td>100.000</td>\n",
       "      <td>NaN</td>\n",
       "      <td>109.39708</td>\n",
       "      <td>NaN</td>\n",
       "      <td>121.597</td>\n",
       "      <td>100.000</td>\n",
       "      <td>182.882</td>\n",
       "      <td>99.846298</td>\n",
       "    </tr>\n",
       "    <tr>\n",
       "      <th>1999-01-31</th>\n",
       "      <td>100.281</td>\n",
       "      <td>NaN</td>\n",
       "      <td>110.03529</td>\n",
       "      <td>NaN</td>\n",
       "      <td>123.260</td>\n",
       "      <td>100.840</td>\n",
       "      <td>187.796</td>\n",
       "      <td>103.147233</td>\n",
       "    </tr>\n",
       "    <tr>\n",
       "      <th>1999-02-28</th>\n",
       "      <td>100.486</td>\n",
       "      <td>NaN</td>\n",
       "      <td>108.28100</td>\n",
       "      <td>NaN</td>\n",
       "      <td>122.236</td>\n",
       "      <td>99.701</td>\n",
       "      <td>184.798</td>\n",
       "      <td>101.659342</td>\n",
       "    </tr>\n",
       "    <tr>\n",
       "      <th>1999-03-31</th>\n",
       "      <td>100.803</td>\n",
       "      <td>NaN</td>\n",
       "      <td>109.16363</td>\n",
       "      <td>NaN</td>\n",
       "      <td>122.946</td>\n",
       "      <td>100.624</td>\n",
       "      <td>188.302</td>\n",
       "      <td>106.134011</td>\n",
       "    </tr>\n",
       "    <tr>\n",
       "      <th>1999-04-30</th>\n",
       "      <td>101.072</td>\n",
       "      <td>NaN</td>\n",
       "      <td>109.83241</td>\n",
       "      <td>NaN</td>\n",
       "      <td>124.372</td>\n",
       "      <td>101.387</td>\n",
       "      <td>197.361</td>\n",
       "      <td>110.787836</td>\n",
       "    </tr>\n",
       "    <tr>\n",
       "      <th>...</th>\n",
       "      <td>...</td>\n",
       "      <td>...</td>\n",
       "      <td>...</td>\n",
       "      <td>...</td>\n",
       "      <td>...</td>\n",
       "      <td>...</td>\n",
       "      <td>...</td>\n",
       "      <td>...</td>\n",
       "    </tr>\n",
       "    <tr>\n",
       "      <th>2022-08-31</th>\n",
       "      <td>142.359</td>\n",
       "      <td>235.939</td>\n",
       "      <td>211.71000</td>\n",
       "      <td>205.062</td>\n",
       "      <td>262.567</td>\n",
       "      <td>237.695</td>\n",
       "      <td>394.777</td>\n",
       "      <td>293.070000</td>\n",
       "    </tr>\n",
       "    <tr>\n",
       "      <th>2022-09-30</th>\n",
       "      <td>142.002</td>\n",
       "      <td>228.623</td>\n",
       "      <td>204.90000</td>\n",
       "      <td>197.259</td>\n",
       "      <td>253.448</td>\n",
       "      <td>224.567</td>\n",
       "      <td>369.814</td>\n",
       "      <td>267.830000</td>\n",
       "    </tr>\n",
       "    <tr>\n",
       "      <th>2022-10-31</th>\n",
       "      <td>142.054</td>\n",
       "      <td>230.922</td>\n",
       "      <td>203.31000</td>\n",
       "      <td>197.133</td>\n",
       "      <td>253.929</td>\n",
       "      <td>222.419</td>\n",
       "      <td>399.106</td>\n",
       "      <td>286.380000</td>\n",
       "    </tr>\n",
       "    <tr>\n",
       "      <th>2022-11-30</th>\n",
       "      <td>142.178</td>\n",
       "      <td>236.784</td>\n",
       "      <td>206.77000</td>\n",
       "      <td>201.482</td>\n",
       "      <td>261.012</td>\n",
       "      <td>231.978</td>\n",
       "      <td>432.514</td>\n",
       "      <td>301.790000</td>\n",
       "    </tr>\n",
       "    <tr>\n",
       "      <th>2022-12-31</th>\n",
       "      <td>142.299</td>\n",
       "      <td>227.990</td>\n",
       "      <td>204.29000</td>\n",
       "      <td>192.407</td>\n",
       "      <td>256.795</td>\n",
       "      <td>230.759</td>\n",
       "      <td>416.999</td>\n",
       "      <td>286.070000</td>\n",
       "    </tr>\n",
       "  </tbody>\n",
       "</table>\n",
       "<p>289 rows × 8 columns</p>\n",
       "</div>"
      ],
      "text/plain": [
       "               EGB0     GJI0   JHUCXEHE  JEEXXITE     ER00     GCXZ  NDDLEMU  \\\n",
       "1998-12-31  100.000      NaN  109.39708       NaN  121.597  100.000  182.882   \n",
       "1999-01-31  100.281      NaN  110.03529       NaN  123.260  100.840  187.796   \n",
       "1999-02-28  100.486      NaN  108.28100       NaN  122.236   99.701  184.798   \n",
       "1999-03-31  100.803      NaN  109.16363       NaN  122.946  100.624  188.302   \n",
       "1999-04-30  101.072      NaN  109.83241       NaN  124.372  101.387  197.361   \n",
       "...             ...      ...        ...       ...      ...      ...      ...   \n",
       "2022-08-31  142.359  235.939  211.71000   205.062  262.567  237.695  394.777   \n",
       "2022-09-30  142.002  228.623  204.90000   197.259  253.448  224.567  369.814   \n",
       "2022-10-31  142.054  230.922  203.31000   197.133  253.929  222.419  399.106   \n",
       "2022-11-30  142.178  236.784  206.77000   201.482  261.012  231.978  432.514   \n",
       "2022-12-31  142.299  227.990  204.29000   192.407  256.795  230.759  416.999   \n",
       "\n",
       "              MXWOHEUR  \n",
       "1998-12-31   99.846298  \n",
       "1999-01-31  103.147233  \n",
       "1999-02-28  101.659342  \n",
       "1999-03-31  106.134011  \n",
       "1999-04-30  110.787836  \n",
       "...                ...  \n",
       "2022-08-31  293.070000  \n",
       "2022-09-30  267.830000  \n",
       "2022-10-31  286.380000  \n",
       "2022-11-30  301.790000  \n",
       "2022-12-31  286.070000  \n",
       "\n",
       "[289 rows x 8 columns]"
      ]
     },
     "execution_count": 5,
     "metadata": {},
     "output_type": "execute_result"
    }
   ],
   "source": [
    "indices_price = pd.read_excel(\"indices_values.xlsx\", index_col=0)\n",
    "indices_price"
   ]
  },
  {
   "cell_type": "code",
   "execution_count": 80,
   "id": "0145fc77-d601-41a7-9dbf-ac69774e3551",
   "metadata": {},
   "outputs": [
    {
     "data": {
      "text/html": [
       "<div>\n",
       "<style scoped>\n",
       "    .dataframe tbody tr th:only-of-type {\n",
       "        vertical-align: middle;\n",
       "    }\n",
       "\n",
       "    .dataframe tbody tr th {\n",
       "        vertical-align: top;\n",
       "    }\n",
       "\n",
       "    .dataframe thead th {\n",
       "        text-align: right;\n",
       "    }\n",
       "</style>\n",
       "<table border=\"1\" class=\"dataframe\">\n",
       "  <thead>\n",
       "    <tr style=\"text-align: right;\">\n",
       "      <th></th>\n",
       "      <th>EGB0</th>\n",
       "      <th>GJI0</th>\n",
       "      <th>JHUCXEHE</th>\n",
       "      <th>JEEXXITE</th>\n",
       "      <th>ER00</th>\n",
       "      <th>GCXZ</th>\n",
       "      <th>NDDLEMU</th>\n",
       "      <th>MXWOHEUR</th>\n",
       "    </tr>\n",
       "  </thead>\n",
       "  <tbody>\n",
       "    <tr>\n",
       "      <th>0</th>\n",
       "      <td>0</td>\n",
       "      <td>0.058533</td>\n",
       "      <td>0.181867</td>\n",
       "      <td>0.122978</td>\n",
       "      <td>0.145089</td>\n",
       "      <td>0.145533</td>\n",
       "      <td>0.0925</td>\n",
       "      <td>0.2535</td>\n",
       "    </tr>\n",
       "  </tbody>\n",
       "</table>\n",
       "</div>"
      ],
      "text/plain": [
       "   EGB0      GJI0  JHUCXEHE  JEEXXITE      ER00      GCXZ  NDDLEMU  MXWOHEUR\n",
       "0     0  0.058533  0.181867  0.122978  0.145089  0.145533   0.0925    0.2535"
      ]
     },
     "execution_count": 80,
     "metadata": {},
     "output_type": "execute_result"
    }
   ],
   "source": [
    "market_weights = pd.read_excel(r\"C:\\Users\\Gianlorenzo\\Dropbox\\Giallo\\UNIMIB\\Tesi\\sources\\Black-Litterman\\dati_indici.xlsx\", sheet_name=1)\n",
    "market_weights"
   ]
  },
  {
   "cell_type": "code",
   "execution_count": 8,
   "id": "083eaeab-9c7f-40ce-8760-1688d8c98029",
   "metadata": {},
   "outputs": [
    {
     "data": {
      "text/plain": [
       "-0.009617731777571525"
      ]
     },
     "execution_count": 8,
     "metadata": {},
     "output_type": "execute_result"
    }
   ],
   "source": [
    "risk_free_realized_return = (indices_price.loc[date, 'EGB0'] / indices_price.loc[oneyearbefore, 'EGB0']) - 1\n",
    "risk_free_realized_return"
   ]
  },
  {
   "cell_type": "code",
   "execution_count": 82,
   "id": "43c2f937-0815-4ad7-805e-4ec1745d4d16",
   "metadata": {},
   "outputs": [
    {
     "data": {
      "text/plain": [
       "-0.009617731777571525"
      ]
     },
     "execution_count": 82,
     "metadata": {},
     "output_type": "execute_result"
    }
   ],
   "source": [
    "risk_free_realized_return"
   ]
  },
  {
   "cell_type": "code",
   "execution_count": 9,
   "id": "86148cf0-645a-44df-b446-cca0b5e73788",
   "metadata": {},
   "outputs": [
    {
     "data": {
      "text/html": [
       "<div>\n",
       "<style scoped>\n",
       "    .dataframe tbody tr th:only-of-type {\n",
       "        vertical-align: middle;\n",
       "    }\n",
       "\n",
       "    .dataframe tbody tr th {\n",
       "        vertical-align: top;\n",
       "    }\n",
       "\n",
       "    .dataframe thead th {\n",
       "        text-align: right;\n",
       "    }\n",
       "</style>\n",
       "<table border=\"1\" class=\"dataframe\">\n",
       "  <thead>\n",
       "    <tr style=\"text-align: right;\">\n",
       "      <th></th>\n",
       "      <th>EGB0</th>\n",
       "    </tr>\n",
       "  </thead>\n",
       "  <tbody>\n",
       "    <tr>\n",
       "      <th>2001-01-31</th>\n",
       "      <td>0.003784</td>\n",
       "    </tr>\n",
       "    <tr>\n",
       "      <th>2001-02-28</th>\n",
       "      <td>0.003267</td>\n",
       "    </tr>\n",
       "    <tr>\n",
       "      <th>2001-03-31</th>\n",
       "      <td>0.004305</td>\n",
       "    </tr>\n",
       "    <tr>\n",
       "      <th>2001-04-30</th>\n",
       "      <td>0.002513</td>\n",
       "    </tr>\n",
       "    <tr>\n",
       "      <th>2001-05-31</th>\n",
       "      <td>0.004939</td>\n",
       "    </tr>\n",
       "    <tr>\n",
       "      <th>...</th>\n",
       "      <td>...</td>\n",
       "    </tr>\n",
       "    <tr>\n",
       "      <th>2022-08-31</th>\n",
       "      <td>-0.000330</td>\n",
       "    </tr>\n",
       "    <tr>\n",
       "      <th>2022-09-30</th>\n",
       "      <td>-0.002508</td>\n",
       "    </tr>\n",
       "    <tr>\n",
       "      <th>2022-10-31</th>\n",
       "      <td>0.000366</td>\n",
       "    </tr>\n",
       "    <tr>\n",
       "      <th>2022-11-30</th>\n",
       "      <td>0.000873</td>\n",
       "    </tr>\n",
       "    <tr>\n",
       "      <th>2022-12-31</th>\n",
       "      <td>0.000851</td>\n",
       "    </tr>\n",
       "  </tbody>\n",
       "</table>\n",
       "<p>264 rows × 1 columns</p>\n",
       "</div>"
      ],
      "text/plain": [
       "                EGB0\n",
       "2001-01-31  0.003784\n",
       "2001-02-28  0.003267\n",
       "2001-03-31  0.004305\n",
       "2001-04-30  0.002513\n",
       "2001-05-31  0.004939\n",
       "...              ...\n",
       "2022-08-31 -0.000330\n",
       "2022-09-30 -0.002508\n",
       "2022-10-31  0.000366\n",
       "2022-11-30  0.000873\n",
       "2022-12-31  0.000851\n",
       "\n",
       "[264 rows x 1 columns]"
      ]
     },
     "execution_count": 9,
     "metadata": {},
     "output_type": "execute_result"
    }
   ],
   "source": [
    "risk_free_rtns = indices_price[\"EGB0\"].pct_change()\n",
    "risk_free_rtns.dropna(inplace=True)\n",
    "risk_free_rtns.drop(risk_free_rtns[risk_free_rtns.index < \"31-01-01\"].index, inplace=True)\n",
    "risk_free_rtns = pd.DataFrame(risk_free_rtns)\n",
    "risk_free_rtns"
   ]
  },
  {
   "cell_type": "code",
   "execution_count": 10,
   "id": "65748122-3b4c-4963-b91f-f0749181b387",
   "metadata": {},
   "outputs": [
    {
     "data": {
      "text/html": [
       "<div>\n",
       "<style scoped>\n",
       "    .dataframe tbody tr th:only-of-type {\n",
       "        vertical-align: middle;\n",
       "    }\n",
       "\n",
       "    .dataframe tbody tr th {\n",
       "        vertical-align: top;\n",
       "    }\n",
       "\n",
       "    .dataframe thead th {\n",
       "        text-align: right;\n",
       "    }\n",
       "</style>\n",
       "<table border=\"1\" class=\"dataframe\">\n",
       "  <thead>\n",
       "    <tr style=\"text-align: right;\">\n",
       "      <th></th>\n",
       "      <th>GJI0</th>\n",
       "      <th>JHUCXEHE</th>\n",
       "      <th>JEEXXITE</th>\n",
       "      <th>ER00</th>\n",
       "      <th>GCXZ</th>\n",
       "      <th>NDDLEMU</th>\n",
       "      <th>MXWOHEUR</th>\n",
       "    </tr>\n",
       "  </thead>\n",
       "  <tbody>\n",
       "    <tr>\n",
       "      <th>2001-01-31</th>\n",
       "      <td>0.007540</td>\n",
       "      <td>0.009754</td>\n",
       "      <td>0.007920</td>\n",
       "      <td>0.011731</td>\n",
       "      <td>0.019301</td>\n",
       "      <td>0.015162</td>\n",
       "      <td>0.026230</td>\n",
       "    </tr>\n",
       "    <tr>\n",
       "      <th>2001-02-28</th>\n",
       "      <td>0.003485</td>\n",
       "      <td>0.011109</td>\n",
       "      <td>0.005169</td>\n",
       "      <td>0.005140</td>\n",
       "      <td>0.006239</td>\n",
       "      <td>-0.088397</td>\n",
       "      <td>-0.079262</td>\n",
       "    </tr>\n",
       "    <tr>\n",
       "      <th>2001-03-31</th>\n",
       "      <td>0.006909</td>\n",
       "      <td>0.004911</td>\n",
       "      <td>0.007344</td>\n",
       "      <td>0.008843</td>\n",
       "      <td>0.006991</td>\n",
       "      <td>-0.038520</td>\n",
       "      <td>-0.051325</td>\n",
       "    </tr>\n",
       "    <tr>\n",
       "      <th>2001-04-30</th>\n",
       "      <td>-0.008882</td>\n",
       "      <td>-0.007372</td>\n",
       "      <td>-0.012807</td>\n",
       "      <td>-0.007739</td>\n",
       "      <td>-0.001300</td>\n",
       "      <td>0.077763</td>\n",
       "      <td>0.068488</td>\n",
       "    </tr>\n",
       "    <tr>\n",
       "      <th>2001-05-31</th>\n",
       "      <td>0.003173</td>\n",
       "      <td>0.006091</td>\n",
       "      <td>0.001757</td>\n",
       "      <td>0.006454</td>\n",
       "      <td>0.010142</td>\n",
       "      <td>-0.021989</td>\n",
       "      <td>-0.006427</td>\n",
       "    </tr>\n",
       "    <tr>\n",
       "      <th>...</th>\n",
       "      <td>...</td>\n",
       "      <td>...</td>\n",
       "      <td>...</td>\n",
       "      <td>...</td>\n",
       "      <td>...</td>\n",
       "      <td>...</td>\n",
       "      <td>...</td>\n",
       "    </tr>\n",
       "    <tr>\n",
       "      <th>2022-05-31</th>\n",
       "      <td>-0.017999</td>\n",
       "      <td>-0.002669</td>\n",
       "      <td>-0.017671</td>\n",
       "      <td>-0.012832</td>\n",
       "      <td>0.002963</td>\n",
       "      <td>0.005689</td>\n",
       "      <td>-0.002962</td>\n",
       "    </tr>\n",
       "    <tr>\n",
       "      <th>2022-06-30</th>\n",
       "      <td>-0.009185</td>\n",
       "      <td>-0.012550</td>\n",
       "      <td>-0.019922</td>\n",
       "      <td>-0.034253</td>\n",
       "      <td>-0.025935</td>\n",
       "      <td>-0.092116</td>\n",
       "      <td>-0.080629</td>\n",
       "    </tr>\n",
       "    <tr>\n",
       "      <th>2022-07-31</th>\n",
       "      <td>0.015726</td>\n",
       "      <td>0.015373</td>\n",
       "      <td>0.046062</td>\n",
       "      <td>0.046397</td>\n",
       "      <td>0.027431</td>\n",
       "      <td>0.073002</td>\n",
       "      <td>0.079712</td>\n",
       "    </tr>\n",
       "    <tr>\n",
       "      <th>2022-08-31</th>\n",
       "      <td>-0.038683</td>\n",
       "      <td>-0.025725</td>\n",
       "      <td>-0.051912</td>\n",
       "      <td>-0.042418</td>\n",
       "      <td>-0.029638</td>\n",
       "      <td>-0.050345</td>\n",
       "      <td>-0.036239</td>\n",
       "    </tr>\n",
       "    <tr>\n",
       "      <th>2022-09-30</th>\n",
       "      <td>-0.031008</td>\n",
       "      <td>-0.032167</td>\n",
       "      <td>-0.038052</td>\n",
       "      <td>-0.034730</td>\n",
       "      <td>-0.055230</td>\n",
       "      <td>-0.063233</td>\n",
       "      <td>-0.086123</td>\n",
       "    </tr>\n",
       "  </tbody>\n",
       "</table>\n",
       "<p>261 rows × 7 columns</p>\n",
       "</div>"
      ],
      "text/plain": [
       "                GJI0  JHUCXEHE  JEEXXITE      ER00      GCXZ   NDDLEMU  \\\n",
       "2001-01-31  0.007540  0.009754  0.007920  0.011731  0.019301  0.015162   \n",
       "2001-02-28  0.003485  0.011109  0.005169  0.005140  0.006239 -0.088397   \n",
       "2001-03-31  0.006909  0.004911  0.007344  0.008843  0.006991 -0.038520   \n",
       "2001-04-30 -0.008882 -0.007372 -0.012807 -0.007739 -0.001300  0.077763   \n",
       "2001-05-31  0.003173  0.006091  0.001757  0.006454  0.010142 -0.021989   \n",
       "...              ...       ...       ...       ...       ...       ...   \n",
       "2022-05-31 -0.017999 -0.002669 -0.017671 -0.012832  0.002963  0.005689   \n",
       "2022-06-30 -0.009185 -0.012550 -0.019922 -0.034253 -0.025935 -0.092116   \n",
       "2022-07-31  0.015726  0.015373  0.046062  0.046397  0.027431  0.073002   \n",
       "2022-08-31 -0.038683 -0.025725 -0.051912 -0.042418 -0.029638 -0.050345   \n",
       "2022-09-30 -0.031008 -0.032167 -0.038052 -0.034730 -0.055230 -0.063233   \n",
       "\n",
       "            MXWOHEUR  \n",
       "2001-01-31  0.026230  \n",
       "2001-02-28 -0.079262  \n",
       "2001-03-31 -0.051325  \n",
       "2001-04-30  0.068488  \n",
       "2001-05-31 -0.006427  \n",
       "...              ...  \n",
       "2022-05-31 -0.002962  \n",
       "2022-06-30 -0.080629  \n",
       "2022-07-31  0.079712  \n",
       "2022-08-31 -0.036239  \n",
       "2022-09-30 -0.086123  \n",
       "\n",
       "[261 rows x 7 columns]"
      ]
     },
     "execution_count": 10,
     "metadata": {},
     "output_type": "execute_result"
    }
   ],
   "source": [
    "indices_price.drop(columns=['EGB0'], inplace=True)\n",
    "indices_rtns = indices_price.pct_change()\n",
    "indices_rtns.dropna(how='any', inplace=True)\n",
    "indices_rtns.drop(indices_rtns[indices_rtns.index > date].index, inplace=True)\n",
    "indices_rtns"
   ]
  },
  {
   "cell_type": "code",
   "execution_count": 13,
   "id": "47ebd368-3c89-43b9-b3b9-65ef8a285aaa",
   "metadata": {},
   "outputs": [
    {
     "data": {
      "text/plain": [
       "<matplotlib.legend.Legend at 0x27a1b5c5fd0>"
      ]
     },
     "execution_count": 13,
     "metadata": {},
     "output_type": "execute_result"
    },
    {
     "data": {
      "image/png": "[encoded data removed]",
      "text/plain": [
       "<Figure size 1000x500 with 1 Axes>"
      ]
     },
     "metadata": {},
     "output_type": "display_data"
    }
   ],
   "source": [
    "fig, ax = plt.subplots(figsize=(10, 5))\n",
    "\n",
    "ax.set_title('Monthly Returns', loc='center', fontsize='large')\n",
    "ax.plot(indices_rtns)\n",
    "fig.legend(['GJI0', 'JHUCXEHE', 'JEEXXITE', 'ER00', 'GCXZ', 'NDDLEMU', 'MXWOHEUR'])"
   ]
  },
  {
   "cell_type": "code",
   "execution_count": 14,
   "id": "e9ffaf74-9fd7-4a8d-96ba-acb69d9d4237",
   "metadata": {},
   "outputs": [],
   "source": [
    "# From each monthly return of every indices subtract the corresponding risk-free monthly return \n",
    "for i, row in indices_rtns.iterrows():\n",
    "    rf_rtn = risk_free_rtns.at[i, 'EGB0']\n",
    "    indices_rtns.at[i, 'GJI0'] -= rf_rtn\n",
    "    indices_rtns.at[i, 'JHUCXEHE'] -= rf_rtn\n",
    "    indices_rtns.at[i, 'JEEXXITE'] -= rf_rtn\n",
    "    indices_rtns.at[i, 'ER00'] -= rf_rtn\n",
    "    indices_rtns.at[i, 'GCXZ'] -= rf_rtn\n",
    "    indices_rtns.at[i, 'NDDLEMU'] -= rf_rtn\n",
    "    indices_rtns.at[i, 'MXWOHEUR'] -= rf_rtn"
   ]
  },
  {
   "cell_type": "code",
   "execution_count": 15,
   "id": "2782e7fe-9a32-4eb1-ae3b-b373fab529d4",
   "metadata": {},
   "outputs": [
    {
     "data": {
      "text/html": [
       "<div>\n",
       "<style scoped>\n",
       "    .dataframe tbody tr th:only-of-type {\n",
       "        vertical-align: middle;\n",
       "    }\n",
       "\n",
       "    .dataframe tbody tr th {\n",
       "        vertical-align: top;\n",
       "    }\n",
       "\n",
       "    .dataframe thead th {\n",
       "        text-align: right;\n",
       "    }\n",
       "</style>\n",
       "<table border=\"1\" class=\"dataframe\">\n",
       "  <thead>\n",
       "    <tr style=\"text-align: right;\">\n",
       "      <th></th>\n",
       "      <th>GJI0</th>\n",
       "      <th>JHUCXEHE</th>\n",
       "      <th>JEEXXITE</th>\n",
       "      <th>ER00</th>\n",
       "      <th>GCXZ</th>\n",
       "      <th>NDDLEMU</th>\n",
       "      <th>MXWOHEUR</th>\n",
       "    </tr>\n",
       "  </thead>\n",
       "  <tbody>\n",
       "    <tr>\n",
       "      <th>2001-01-31</th>\n",
       "      <td>0.003756</td>\n",
       "      <td>0.005970</td>\n",
       "      <td>0.004136</td>\n",
       "      <td>0.007948</td>\n",
       "      <td>0.015517</td>\n",
       "      <td>0.011378</td>\n",
       "      <td>0.022446</td>\n",
       "    </tr>\n",
       "    <tr>\n",
       "      <th>2001-02-28</th>\n",
       "      <td>0.000218</td>\n",
       "      <td>0.007842</td>\n",
       "      <td>0.001902</td>\n",
       "      <td>0.001873</td>\n",
       "      <td>0.002972</td>\n",
       "      <td>-0.091665</td>\n",
       "      <td>-0.082529</td>\n",
       "    </tr>\n",
       "    <tr>\n",
       "      <th>2001-03-31</th>\n",
       "      <td>0.002605</td>\n",
       "      <td>0.000606</td>\n",
       "      <td>0.003039</td>\n",
       "      <td>0.004538</td>\n",
       "      <td>0.002686</td>\n",
       "      <td>-0.042825</td>\n",
       "      <td>-0.055629</td>\n",
       "    </tr>\n",
       "    <tr>\n",
       "      <th>2001-04-30</th>\n",
       "      <td>-0.011395</td>\n",
       "      <td>-0.009884</td>\n",
       "      <td>-0.015319</td>\n",
       "      <td>-0.010252</td>\n",
       "      <td>-0.003813</td>\n",
       "      <td>0.075250</td>\n",
       "      <td>0.065975</td>\n",
       "    </tr>\n",
       "    <tr>\n",
       "      <th>2001-05-31</th>\n",
       "      <td>-0.001766</td>\n",
       "      <td>0.001152</td>\n",
       "      <td>-0.003182</td>\n",
       "      <td>0.001515</td>\n",
       "      <td>0.005203</td>\n",
       "      <td>-0.026928</td>\n",
       "      <td>-0.011366</td>\n",
       "    </tr>\n",
       "    <tr>\n",
       "      <th>...</th>\n",
       "      <td>...</td>\n",
       "      <td>...</td>\n",
       "      <td>...</td>\n",
       "      <td>...</td>\n",
       "      <td>...</td>\n",
       "      <td>...</td>\n",
       "      <td>...</td>\n",
       "    </tr>\n",
       "    <tr>\n",
       "      <th>2022-05-31</th>\n",
       "      <td>-0.017033</td>\n",
       "      <td>-0.001702</td>\n",
       "      <td>-0.016704</td>\n",
       "      <td>-0.011865</td>\n",
       "      <td>0.003929</td>\n",
       "      <td>0.006656</td>\n",
       "      <td>-0.001995</td>\n",
       "    </tr>\n",
       "    <tr>\n",
       "      <th>2022-06-30</th>\n",
       "      <td>-0.008042</td>\n",
       "      <td>-0.011407</td>\n",
       "      <td>-0.018780</td>\n",
       "      <td>-0.033110</td>\n",
       "      <td>-0.024793</td>\n",
       "      <td>-0.090974</td>\n",
       "      <td>-0.079487</td>\n",
       "    </tr>\n",
       "    <tr>\n",
       "      <th>2022-07-31</th>\n",
       "      <td>0.016190</td>\n",
       "      <td>0.015836</td>\n",
       "      <td>0.046525</td>\n",
       "      <td>0.046861</td>\n",
       "      <td>0.027894</td>\n",
       "      <td>0.073466</td>\n",
       "      <td>0.080175</td>\n",
       "    </tr>\n",
       "    <tr>\n",
       "      <th>2022-08-31</th>\n",
       "      <td>-0.038353</td>\n",
       "      <td>-0.025395</td>\n",
       "      <td>-0.051582</td>\n",
       "      <td>-0.042088</td>\n",
       "      <td>-0.029308</td>\n",
       "      <td>-0.050015</td>\n",
       "      <td>-0.035909</td>\n",
       "    </tr>\n",
       "    <tr>\n",
       "      <th>2022-09-30</th>\n",
       "      <td>-0.028500</td>\n",
       "      <td>-0.029659</td>\n",
       "      <td>-0.035544</td>\n",
       "      <td>-0.032222</td>\n",
       "      <td>-0.052723</td>\n",
       "      <td>-0.060725</td>\n",
       "      <td>-0.083615</td>\n",
       "    </tr>\n",
       "  </tbody>\n",
       "</table>\n",
       "<p>261 rows × 7 columns</p>\n",
       "</div>"
      ],
      "text/plain": [
       "                GJI0  JHUCXEHE  JEEXXITE      ER00      GCXZ   NDDLEMU  \\\n",
       "2001-01-31  0.003756  0.005970  0.004136  0.007948  0.015517  0.011378   \n",
       "2001-02-28  0.000218  0.007842  0.001902  0.001873  0.002972 -0.091665   \n",
       "2001-03-31  0.002605  0.000606  0.003039  0.004538  0.002686 -0.042825   \n",
       "2001-04-30 -0.011395 -0.009884 -0.015319 -0.010252 -0.003813  0.075250   \n",
       "2001-05-31 -0.001766  0.001152 -0.003182  0.001515  0.005203 -0.026928   \n",
       "...              ...       ...       ...       ...       ...       ...   \n",
       "2022-05-31 -0.017033 -0.001702 -0.016704 -0.011865  0.003929  0.006656   \n",
       "2022-06-30 -0.008042 -0.011407 -0.018780 -0.033110 -0.024793 -0.090974   \n",
       "2022-07-31  0.016190  0.015836  0.046525  0.046861  0.027894  0.073466   \n",
       "2022-08-31 -0.038353 -0.025395 -0.051582 -0.042088 -0.029308 -0.050015   \n",
       "2022-09-30 -0.028500 -0.029659 -0.035544 -0.032222 -0.052723 -0.060725   \n",
       "\n",
       "            MXWOHEUR  \n",
       "2001-01-31  0.022446  \n",
       "2001-02-28 -0.082529  \n",
       "2001-03-31 -0.055629  \n",
       "2001-04-30  0.065975  \n",
       "2001-05-31 -0.011366  \n",
       "...              ...  \n",
       "2022-05-31 -0.001995  \n",
       "2022-06-30 -0.079487  \n",
       "2022-07-31  0.080175  \n",
       "2022-08-31 -0.035909  \n",
       "2022-09-30 -0.083615  \n",
       "\n",
       "[261 rows x 7 columns]"
      ]
     },
     "execution_count": 15,
     "metadata": {},
     "output_type": "execute_result"
    }
   ],
   "source": [
    "indices_rtns"
   ]
  },
  {
   "cell_type": "code",
   "execution_count": 23,
   "id": "3ab64148-3f0b-4e31-906d-f01e912a00eb",
   "metadata": {},
   "outputs": [],
   "source": [
    "portfolio_weights = market_weights.drop(columns=['EGB0'])\n",
    "portfolio_weights = portfolio_weights.rename({\"Weight\":\"Weights\"})"
   ]
  },
  {
   "cell_type": "code",
   "execution_count": 24,
   "id": "6e496282-5242-4103-901d-539288c5ae9c",
   "metadata": {},
   "outputs": [
    {
     "data": {
      "text/html": [
       "<style type=\"text/css\">\n",
       "</style>\n",
       "<table id=\"T_7b2b7\">\n",
       "  <thead>\n",
       "    <tr>\n",
       "      <th class=\"blank level0\" >&nbsp;</th>\n",
       "      <th id=\"T_7b2b7_level0_col0\" class=\"col_heading level0 col0\" >Weights</th>\n",
       "    </tr>\n",
       "  </thead>\n",
       "  <tbody>\n",
       "    <tr>\n",
       "      <th id=\"T_7b2b7_level0_row0\" class=\"row_heading level0 row0\" >GJI0</th>\n",
       "      <td id=\"T_7b2b7_row0_col0\" class=\"data row0 col0\" >5.85%</td>\n",
       "    </tr>\n",
       "    <tr>\n",
       "      <th id=\"T_7b2b7_level0_row1\" class=\"row_heading level0 row1\" >JHUCXEHE</th>\n",
       "      <td id=\"T_7b2b7_row1_col0\" class=\"data row1 col0\" >18.19%</td>\n",
       "    </tr>\n",
       "    <tr>\n",
       "      <th id=\"T_7b2b7_level0_row2\" class=\"row_heading level0 row2\" >JEEXXITE</th>\n",
       "      <td id=\"T_7b2b7_row2_col0\" class=\"data row2 col0\" >12.30%</td>\n",
       "    </tr>\n",
       "    <tr>\n",
       "      <th id=\"T_7b2b7_level0_row3\" class=\"row_heading level0 row3\" >ER00</th>\n",
       "      <td id=\"T_7b2b7_row3_col0\" class=\"data row3 col0\" >14.51%</td>\n",
       "    </tr>\n",
       "    <tr>\n",
       "      <th id=\"T_7b2b7_level0_row4\" class=\"row_heading level0 row4\" >GCXZ</th>\n",
       "      <td id=\"T_7b2b7_row4_col0\" class=\"data row4 col0\" >14.55%</td>\n",
       "    </tr>\n",
       "    <tr>\n",
       "      <th id=\"T_7b2b7_level0_row5\" class=\"row_heading level0 row5\" >NDDLEMU</th>\n",
       "      <td id=\"T_7b2b7_row5_col0\" class=\"data row5 col0\" >9.25%</td>\n",
       "    </tr>\n",
       "    <tr>\n",
       "      <th id=\"T_7b2b7_level0_row6\" class=\"row_heading level0 row6\" >MXWOHEUR</th>\n",
       "      <td id=\"T_7b2b7_row6_col0\" class=\"data row6 col0\" >25.35%</td>\n",
       "    </tr>\n",
       "  </tbody>\n",
       "</table>\n"
      ],
      "text/plain": [
       "<pandas.io.formats.style.Styler at 0x27a18f5f710>"
      ]
     },
     "execution_count": 24,
     "metadata": {},
     "output_type": "execute_result"
    }
   ],
   "source": [
    "portfolio_weights.T.style.format({\n",
    "    'Weights': '{:,.2%}'.format,\n",
    "})"
   ]
  },
  {
   "cell_type": "markdown",
   "id": "9bcf893f",
   "metadata": {},
   "source": [
    "Calculate the benchmark excess return"
   ]
  },
  {
   "cell_type": "code",
   "execution_count": 25,
   "id": "1bf713e9-4ff9-46f7-bf46-a3e51a96ddf2",
   "metadata": {},
   "outputs": [],
   "source": [
    "benchmark_er = np.dot(indices_rtns, np.transpose(portfolio_weights))"
   ]
  },
  {
   "cell_type": "markdown",
   "id": "4c488ce6",
   "metadata": {},
   "source": [
    "Compute historical price series of the portfolio"
   ]
  },
  {
   "cell_type": "code",
   "execution_count": 26,
   "id": "35defba6-bf3b-45a0-bd9e-8491e7ce4fa5",
   "metadata": {},
   "outputs": [],
   "source": [
    "benchmark_series = np.empty(len(benchmark_er) + 1)\n",
    "benchmark_series[0] = 100"
   ]
  },
  {
   "cell_type": "code",
   "execution_count": 27,
   "id": "6a6cb21b-b97c-459b-a210-6dd69ad40166",
   "metadata": {},
   "outputs": [],
   "source": [
    "for i in range(benchmark_series.size):\n",
    "    if i != 0:\n",
    "        benchmark_series[i] = benchmark_series[i - 1] * (1 + benchmark_er[i - 1])"
   ]
  },
  {
   "cell_type": "markdown",
   "id": "9b371077",
   "metadata": {},
   "source": [
    "Compute the log monthly returns of the benchmark"
   ]
  },
  {
   "cell_type": "code",
   "execution_count": 28,
   "id": "aac6d71e-67c6-4238-9a03-a18ab5ec711c",
   "metadata": {},
   "outputs": [],
   "source": [
    "log_returns = np.empty(len(benchmark_er))\n",
    "\n",
    "for i in range(log_returns.size):\n",
    "    log_returns[i] = np.log(benchmark_series[i + 1] / benchmark_series[i])"
   ]
  },
  {
   "cell_type": "code",
   "execution_count": 29,
   "id": "9aee1c8b-c707-4971-9aae-86b57e186207",
   "metadata": {},
   "outputs": [],
   "source": [
    "# Mean monthly return of the optimal portfolio\n",
    "mean_monthly_return = np.mean(log_returns[:246])"
   ]
  },
  {
   "cell_type": "code",
   "execution_count": 30,
   "id": "a7c6fd16-6044-48fa-849d-c614f2e0c827",
   "metadata": {},
   "outputs": [
    {
     "data": {
      "text/plain": [
       "0.002607553496088357"
      ]
     },
     "execution_count": 30,
     "metadata": {},
     "output_type": "execute_result"
    }
   ],
   "source": [
    "mean_monthly_return"
   ]
  },
  {
   "cell_type": "code",
   "execution_count": 31,
   "id": "c2d32ebb-9962-4766-8f5c-8e8a7459e681",
   "metadata": {},
   "outputs": [],
   "source": [
    "# Portfolio variance\n",
    "monthly_variance = np.var(log_returns[:246])"
   ]
  },
  {
   "cell_type": "code",
   "execution_count": 32,
   "id": "d43b3e24-c61d-4ae8-9a4f-ecc5db0632f2",
   "metadata": {},
   "outputs": [
    {
     "data": {
      "text/plain": [
       "0.00028174896837214925"
      ]
     },
     "execution_count": 32,
     "metadata": {},
     "output_type": "execute_result"
    }
   ],
   "source": [
    "monthly_variance"
   ]
  },
  {
   "cell_type": "code",
   "execution_count": 34,
   "id": "dd12dd30-aae5-420f-b3ba-56fec0846e17",
   "metadata": {},
   "outputs": [],
   "source": [
    "# Portfolio Lambda\n",
    "lmd = (mean_monthly_return / monthly_variance) * 12"
   ]
  },
  {
   "cell_type": "code",
   "execution_count": 35,
   "id": "4577f81e-c468-47d3-8cd1-673a997f98da",
   "metadata": {},
   "outputs": [
    {
     "data": {
      "text/plain": [
       "111.05858571141214"
      ]
     },
     "execution_count": 35,
     "metadata": {},
     "output_type": "execute_result"
    }
   ],
   "source": [
    "lmd"
   ]
  },
  {
   "cell_type": "code",
   "execution_count": 36,
   "id": "9f466bb0-35dd-462a-8527-cec3a4c85dad",
   "metadata": {},
   "outputs": [
    {
     "data": {
      "text/html": [
       "<div>\n",
       "<style scoped>\n",
       "    .dataframe tbody tr th:only-of-type {\n",
       "        vertical-align: middle;\n",
       "    }\n",
       "\n",
       "    .dataframe tbody tr th {\n",
       "        vertical-align: top;\n",
       "    }\n",
       "\n",
       "    .dataframe thead th {\n",
       "        text-align: right;\n",
       "    }\n",
       "</style>\n",
       "<table border=\"1\" class=\"dataframe\">\n",
       "  <thead>\n",
       "    <tr style=\"text-align: right;\">\n",
       "      <th></th>\n",
       "      <th>GJI0</th>\n",
       "      <th>JHUCXEHE</th>\n",
       "      <th>JEEXXITE</th>\n",
       "      <th>ER00</th>\n",
       "      <th>GCXZ</th>\n",
       "      <th>NDDLEMU</th>\n",
       "      <th>MXWOHEUR</th>\n",
       "    </tr>\n",
       "  </thead>\n",
       "  <tbody>\n",
       "    <tr>\n",
       "      <th>GJI0</th>\n",
       "      <td>0.000203</td>\n",
       "      <td>0.000038</td>\n",
       "      <td>0.000094</td>\n",
       "      <td>0.000073</td>\n",
       "      <td>0.000077</td>\n",
       "      <td>0.000083</td>\n",
       "      <td>0.000044</td>\n",
       "    </tr>\n",
       "    <tr>\n",
       "      <th>JHUCXEHE</th>\n",
       "      <td>0.000038</td>\n",
       "      <td>0.000099</td>\n",
       "      <td>0.000074</td>\n",
       "      <td>0.000030</td>\n",
       "      <td>0.000068</td>\n",
       "      <td>-0.000156</td>\n",
       "      <td>-0.000128</td>\n",
       "    </tr>\n",
       "    <tr>\n",
       "      <th>JEEXXITE</th>\n",
       "      <td>0.000094</td>\n",
       "      <td>0.000074</td>\n",
       "      <td>0.000125</td>\n",
       "      <td>0.000069</td>\n",
       "      <td>0.000083</td>\n",
       "      <td>-0.000101</td>\n",
       "      <td>-0.000085</td>\n",
       "    </tr>\n",
       "    <tr>\n",
       "      <th>ER00</th>\n",
       "      <td>0.000073</td>\n",
       "      <td>0.000030</td>\n",
       "      <td>0.000069</td>\n",
       "      <td>0.000107</td>\n",
       "      <td>0.000130</td>\n",
       "      <td>0.000168</td>\n",
       "      <td>0.000152</td>\n",
       "    </tr>\n",
       "    <tr>\n",
       "      <th>GCXZ</th>\n",
       "      <td>0.000077</td>\n",
       "      <td>0.000068</td>\n",
       "      <td>0.000083</td>\n",
       "      <td>0.000130</td>\n",
       "      <td>0.000222</td>\n",
       "      <td>0.000221</td>\n",
       "      <td>0.000218</td>\n",
       "    </tr>\n",
       "    <tr>\n",
       "      <th>NDDLEMU</th>\n",
       "      <td>0.000083</td>\n",
       "      <td>-0.000156</td>\n",
       "      <td>-0.000101</td>\n",
       "      <td>0.000168</td>\n",
       "      <td>0.000221</td>\n",
       "      <td>0.002672</td>\n",
       "      <td>0.001980</td>\n",
       "    </tr>\n",
       "    <tr>\n",
       "      <th>MXWOHEUR</th>\n",
       "      <td>0.000044</td>\n",
       "      <td>-0.000128</td>\n",
       "      <td>-0.000085</td>\n",
       "      <td>0.000152</td>\n",
       "      <td>0.000218</td>\n",
       "      <td>0.001980</td>\n",
       "      <td>0.001726</td>\n",
       "    </tr>\n",
       "  </tbody>\n",
       "</table>\n",
       "</div>"
      ],
      "text/plain": [
       "              GJI0  JHUCXEHE  JEEXXITE      ER00      GCXZ   NDDLEMU  MXWOHEUR\n",
       "GJI0      0.000203  0.000038  0.000094  0.000073  0.000077  0.000083  0.000044\n",
       "JHUCXEHE  0.000038  0.000099  0.000074  0.000030  0.000068 -0.000156 -0.000128\n",
       "JEEXXITE  0.000094  0.000074  0.000125  0.000069  0.000083 -0.000101 -0.000085\n",
       "ER00      0.000073  0.000030  0.000069  0.000107  0.000130  0.000168  0.000152\n",
       "GCXZ      0.000077  0.000068  0.000083  0.000130  0.000222  0.000221  0.000218\n",
       "NDDLEMU   0.000083 -0.000156 -0.000101  0.000168  0.000221  0.002672  0.001980\n",
       "MXWOHEUR  0.000044 -0.000128 -0.000085  0.000152  0.000218  0.001980  0.001726"
      ]
     },
     "execution_count": 36,
     "metadata": {},
     "output_type": "execute_result"
    }
   ],
   "source": [
    "# Covariance Matrix\n",
    "cov_matrix = indices_rtns.loc[:oneyearbefore, :].cov()\n",
    "cov_matrix"
   ]
  },
  {
   "cell_type": "code",
   "execution_count": 38,
   "id": "4432d122-2552-4cbd-9de9-7ce3e06684b3",
   "metadata": {},
   "outputs": [],
   "source": [
    "# sigma matrix * tau\n",
    "cov_tau = cov_matrix * TAU"
   ]
  },
  {
   "cell_type": "code",
   "execution_count": 39,
   "id": "8ba33b44-bf09-465e-8bce-bfe8937cb4ce",
   "metadata": {},
   "outputs": [],
   "source": [
    "market_implied_rtns = lmd * np.matmul(cov_matrix, np.transpose(np.array(portfolio_weights)))\n",
    "market_implied_rtns.rename(columns={0:'\"Equilibrium\" Returns'}, inplace=True)"
   ]
  },
  {
   "cell_type": "code",
   "execution_count": 40,
   "id": "d10d5a50-fa01-4980-b1c2-b9ee1740e739",
   "metadata": {},
   "outputs": [],
   "source": [
    "market_neutral_Q = np.zeros(nviews, dtype=float)\n",
    "\n",
    "market_neutral_Q[0] = market_implied_rtns.iloc[5] - market_implied_rtns.iloc[6]\n",
    "market_neutral_Q[1] = market_implied_rtns.iloc[0] - market_implied_rtns.iloc[2]\n",
    "market_neutral_Q[2] = market_implied_rtns.iloc[3] - (0.25 * market_implied_rtns.iloc[0] + 0.75 * market_implied_rtns.iloc[2])\n",
    "market_neutral_Q[3] = market_implied_rtns.iloc[5] - (0.25 * market_implied_rtns.iloc[0] + 0.75 * market_implied_rtns.iloc[2])"
   ]
  },
  {
   "cell_type": "code",
   "execution_count": 46,
   "id": "9a72a51e-41bd-4d20-bb04-ef15929d0490",
   "metadata": {},
   "outputs": [
    {
     "data": {
      "text/html": [
       "<div>\n",
       "<style scoped>\n",
       "    .dataframe tbody tr th:only-of-type {\n",
       "        vertical-align: middle;\n",
       "    }\n",
       "\n",
       "    .dataframe tbody tr th {\n",
       "        vertical-align: top;\n",
       "    }\n",
       "\n",
       "    .dataframe thead th {\n",
       "        text-align: right;\n",
       "    }\n",
       "</style>\n",
       "<table border=\"1\" class=\"dataframe\">\n",
       "  <thead>\n",
       "    <tr style=\"text-align: right;\">\n",
       "      <th></th>\n",
       "      <th>0</th>\n",
       "      <th>1</th>\n",
       "      <th>2</th>\n",
       "      <th>3</th>\n",
       "    </tr>\n",
       "  </thead>\n",
       "  <tbody>\n",
       "    <tr>\n",
       "      <th>0</th>\n",
       "      <td>0.0549</td>\n",
       "      <td>0</td>\n",
       "      <td>0.02</td>\n",
       "      <td>0.18</td>\n",
       "    </tr>\n",
       "  </tbody>\n",
       "</table>\n",
       "</div>"
      ],
      "text/plain": [
       "        0  1     2     3\n",
       "0  0.0549  0  0.02  0.18"
      ]
     },
     "execution_count": 46,
     "metadata": {},
     "output_type": "execute_result"
    }
   ],
   "source": [
    "views = pd.DataFrame([{\"0\": 0.0549, \"1\": 0, \"2\": 0.02, \"3\": 0.18}])\n",
    "views"
   ]
  },
  {
   "cell_type": "code",
   "execution_count": 48,
   "id": "693dbbb5-e042-49a3-8274-dc598b9a2bbf",
   "metadata": {},
   "outputs": [],
   "source": [
    "i = 0\n",
    "\n",
    "Q = np.zeros(nviews, dtype=float)\n",
    "\n",
    "if views.iloc[i][0] != 0:\n",
    "    Q[0] = views.iloc[i][0]\n",
    "else:\n",
    "    Q[0] = market_neutral_Q[0]\n",
    "\n",
    "if views.iloc[i][1] != 0:\n",
    "    Q[1] = views.iloc[i][1]\n",
    "else:\n",
    "    Q[1] = market_neutral_Q[1]\n",
    "\n",
    "if views.iloc[i][2] != 0:\n",
    "    Q[2] = views.iloc[i][2]\n",
    "else:\n",
    "    Q[2] = market_neutral_Q[2]\n",
    "\n",
    "if views.iloc[i][3] != 0:\n",
    "    Q[3] = views.iloc[i][3]\n",
    "else:\n",
    "    Q[3] = market_neutral_Q[3]"
   ]
  },
  {
   "cell_type": "code",
   "execution_count": 49,
   "id": "574789a2-b319-48bc-8a7f-be913da6d8a4",
   "metadata": {},
   "outputs": [
    {
     "data": {
      "text/html": [
       "<div>\n",
       "<style scoped>\n",
       "    .dataframe tbody tr th:only-of-type {\n",
       "        vertical-align: middle;\n",
       "    }\n",
       "\n",
       "    .dataframe tbody tr th {\n",
       "        vertical-align: top;\n",
       "    }\n",
       "\n",
       "    .dataframe thead th {\n",
       "        text-align: right;\n",
       "    }\n",
       "</style>\n",
       "<table border=\"1\" class=\"dataframe\">\n",
       "  <thead>\n",
       "    <tr style=\"text-align: right;\">\n",
       "      <th></th>\n",
       "      <th>Views</th>\n",
       "    </tr>\n",
       "  </thead>\n",
       "  <tbody>\n",
       "    <tr>\n",
       "      <th>1</th>\n",
       "      <td>0.054900</td>\n",
       "    </tr>\n",
       "    <tr>\n",
       "      <th>2</th>\n",
       "      <td>0.005013</td>\n",
       "    </tr>\n",
       "    <tr>\n",
       "      <th>3</th>\n",
       "      <td>0.020000</td>\n",
       "    </tr>\n",
       "    <tr>\n",
       "      <th>4</th>\n",
       "      <td>0.180000</td>\n",
       "    </tr>\n",
       "  </tbody>\n",
       "</table>\n",
       "</div>"
      ],
      "text/plain": [
       "      Views\n",
       "1  0.054900\n",
       "2  0.005013\n",
       "3  0.020000\n",
       "4  0.180000"
      ]
     },
     "execution_count": 49,
     "metadata": {},
     "output_type": "execute_result"
    }
   ],
   "source": [
    "Q_df = pd.DataFrame(Q, index=[1, 2, 3, 4], columns=[\"Views\"])\n",
    "Q_df"
   ]
  },
  {
   "cell_type": "code",
   "execution_count": 50,
   "id": "9a448c78-0665-4224-ae3e-327b19205335",
   "metadata": {},
   "outputs": [
    {
     "data": {
      "text/html": [
       "<div>\n",
       "<style scoped>\n",
       "    .dataframe tbody tr th:only-of-type {\n",
       "        vertical-align: middle;\n",
       "    }\n",
       "\n",
       "    .dataframe tbody tr th {\n",
       "        vertical-align: top;\n",
       "    }\n",
       "\n",
       "    .dataframe thead th {\n",
       "        text-align: right;\n",
       "    }\n",
       "</style>\n",
       "<table border=\"1\" class=\"dataframe\">\n",
       "  <thead>\n",
       "    <tr style=\"text-align: right;\">\n",
       "      <th></th>\n",
       "      <th>GJI0</th>\n",
       "      <th>JHUCXEHE</th>\n",
       "      <th>JEEXXITE</th>\n",
       "      <th>ER00</th>\n",
       "      <th>GCXZ</th>\n",
       "      <th>NDDLEMU</th>\n",
       "      <th>MXWOHEUR</th>\n",
       "    </tr>\n",
       "  </thead>\n",
       "  <tbody>\n",
       "    <tr>\n",
       "      <th>0</th>\n",
       "      <td>0.00</td>\n",
       "      <td>0.0</td>\n",
       "      <td>0.00</td>\n",
       "      <td>0.0</td>\n",
       "      <td>0.0</td>\n",
       "      <td>1.0</td>\n",
       "      <td>-1.0</td>\n",
       "    </tr>\n",
       "    <tr>\n",
       "      <th>1</th>\n",
       "      <td>1.00</td>\n",
       "      <td>0.0</td>\n",
       "      <td>-1.00</td>\n",
       "      <td>0.0</td>\n",
       "      <td>0.0</td>\n",
       "      <td>0.0</td>\n",
       "      <td>0.0</td>\n",
       "    </tr>\n",
       "    <tr>\n",
       "      <th>2</th>\n",
       "      <td>-0.25</td>\n",
       "      <td>0.0</td>\n",
       "      <td>-0.75</td>\n",
       "      <td>1.0</td>\n",
       "      <td>0.0</td>\n",
       "      <td>0.0</td>\n",
       "      <td>0.0</td>\n",
       "    </tr>\n",
       "    <tr>\n",
       "      <th>3</th>\n",
       "      <td>-0.25</td>\n",
       "      <td>0.0</td>\n",
       "      <td>-0.75</td>\n",
       "      <td>0.0</td>\n",
       "      <td>0.0</td>\n",
       "      <td>1.0</td>\n",
       "      <td>0.0</td>\n",
       "    </tr>\n",
       "  </tbody>\n",
       "</table>\n",
       "</div>"
      ],
      "text/plain": [
       "   GJI0  JHUCXEHE  JEEXXITE  ER00  GCXZ  NDDLEMU  MXWOHEUR\n",
       "0  0.00       0.0      0.00   0.0   0.0      1.0      -1.0\n",
       "1  1.00       0.0     -1.00   0.0   0.0      0.0       0.0\n",
       "2 -0.25       0.0     -0.75   1.0   0.0      0.0       0.0\n",
       "3 -0.25       0.0     -0.75   0.0   0.0      1.0       0.0"
      ]
     },
     "execution_count": 50,
     "metadata": {},
     "output_type": "execute_result"
    }
   ],
   "source": [
    "p_array = np.array([[0, 0, 0, 0, 0, 1, -1],\n",
    "                    [1, 0, -1, 0, 0, 0, 0],\n",
    "                    [-0.25, 0, -0.75, 1, 0, 0, 0],\n",
    "                    [-0.25, 0, -0.75, 0, 0, 1, 0]])\n",
    "\n",
    "P_matrix = pd.DataFrame(p_array, columns=['GJI0', 'JHUCXEHE', 'JEEXXITE', 'ER00', 'GCXZ', 'NDDLEMU', 'MXWOHEUR'])\n",
    "P_matrix"
   ]
  },
  {
   "cell_type": "code",
   "execution_count": 51,
   "id": "4a1abe7f-21ec-43df-8aaa-35f32b8a7c33",
   "metadata": {},
   "outputs": [
    {
     "data": {
      "text/html": [
       "<div>\n",
       "<style scoped>\n",
       "    .dataframe tbody tr th:only-of-type {\n",
       "        vertical-align: middle;\n",
       "    }\n",
       "\n",
       "    .dataframe tbody tr th {\n",
       "        vertical-align: top;\n",
       "    }\n",
       "\n",
       "    .dataframe thead th {\n",
       "        text-align: right;\n",
       "    }\n",
       "</style>\n",
       "<table border=\"1\" class=\"dataframe\">\n",
       "  <thead>\n",
       "    <tr style=\"text-align: right;\">\n",
       "      <th></th>\n",
       "      <th>GJI0</th>\n",
       "      <th>JHUCXEHE</th>\n",
       "      <th>JEEXXITE</th>\n",
       "      <th>ER00</th>\n",
       "      <th>GCXZ</th>\n",
       "      <th>NDDLEMU</th>\n",
       "      <th>MXWOHEUR</th>\n",
       "    </tr>\n",
       "  </thead>\n",
       "  <tbody>\n",
       "    <tr>\n",
       "      <th>0</th>\n",
       "      <td>-0.044987</td>\n",
       "      <td>0.0</td>\n",
       "      <td>-0.155013</td>\n",
       "      <td>0.02</td>\n",
       "      <td>0.0</td>\n",
       "      <td>0.2349</td>\n",
       "      <td>-0.0549</td>\n",
       "    </tr>\n",
       "  </tbody>\n",
       "</table>\n",
       "</div>"
      ],
      "text/plain": [
       "       GJI0  JHUCXEHE  JEEXXITE  ER00  GCXZ  NDDLEMU  MXWOHEUR\n",
       "0 -0.044987       0.0 -0.155013  0.02   0.0   0.2349   -0.0549"
      ]
     },
     "execution_count": 51,
     "metadata": {},
     "output_type": "execute_result"
    }
   ],
   "source": [
    "np.matmul(np.array(Q_df.T), P_matrix)"
   ]
  },
  {
   "cell_type": "code",
   "execution_count": 52,
   "id": "80c74ff6-a3dd-4060-9ecf-b7efb6dce86c",
   "metadata": {},
   "outputs": [
    {
     "data": {
      "text/plain": [
       "array([[2.18886617e-05, 0.00000000e+00, 0.00000000e+00, 0.00000000e+00],\n",
       "       [0.00000000e+00, 6.96237552e-06, 0.00000000e+00, 0.00000000e+00],\n",
       "       [0.00000000e+00, 0.00000000e+00, 4.28001792e-06, 0.00000000e+00],\n",
       "       [0.00000000e+00, 0.00000000e+00, 0.00000000e+00, 1.44995646e-04]])"
      ]
     },
     "execution_count": 52,
     "metadata": {},
     "output_type": "execute_result"
    }
   ],
   "source": [
    "Omega = np.matmul(np.matmul(np.array(P_matrix), cov_tau), np.transpose(np.array(P_matrix)))\n",
    "Omega = np.diag(np.diag(Omega))\n",
    "Omega"
   ]
  },
  {
   "cell_type": "code",
   "execution_count": 53,
   "id": "638db039-528f-4137-b586-03ade3e996b0",
   "metadata": {},
   "outputs": [],
   "source": [
    "bl1 = np.linalg.inv(np.linalg.inv(np.array(cov_tau)) + np.matmul(np.matmul(np.transpose(np.array(P_matrix)), np.linalg.inv(Omega)), P_matrix))"
   ]
  },
  {
   "cell_type": "code",
   "execution_count": 54,
   "id": "b57ddf11-4a40-4822-992a-947ba8740ec4",
   "metadata": {},
   "outputs": [],
   "source": [
    "bl2 = np.matmul(np.linalg.inv(np.array(cov_tau)), np.array(market_implied_rtns)).flatten() + np.matmul(np.matmul(np.transpose(np.array(P_matrix)), np.linalg.inv(Omega)), Q).flatten()"
   ]
  },
  {
   "cell_type": "code",
   "execution_count": 59,
   "id": "94b65e22-b6ec-47ac-b9d5-b7c65a8b1eb3",
   "metadata": {},
   "outputs": [],
   "source": [
    "bl_excess_returns = pd.DataFrame(np.matmul(bl1, bl2),\n",
    "                                 index=['GJI0', 'JHUCXEHE', 'JEEXXITE', 'ER00', 'GCXZ', 'NDDLEMU', 'MXWOHEUR'],\n",
    "                                 columns=['Expected return'])"
   ]
  },
  {
   "cell_type": "code",
   "execution_count": 60,
   "id": "65d12281-dba1-43b6-bb9e-671be455fb01",
   "metadata": {},
   "outputs": [
    {
     "data": {
      "text/html": [
       "<style type=\"text/css\">\n",
       "</style>\n",
       "<table id=\"T_3f67c\">\n",
       "  <thead>\n",
       "    <tr>\n",
       "      <th class=\"blank level0\" >&nbsp;</th>\n",
       "      <th id=\"T_3f67c_level0_col0\" class=\"col_heading level0 col0\" >Expected return</th>\n",
       "    </tr>\n",
       "  </thead>\n",
       "  <tbody>\n",
       "    <tr>\n",
       "      <th id=\"T_3f67c_level0_row0\" class=\"row_heading level0 row0\" >GJI0</th>\n",
       "      <td id=\"T_3f67c_row0_col0\" class=\"data row0 col0\" >0.49%</td>\n",
       "    </tr>\n",
       "    <tr>\n",
       "      <th id=\"T_3f67c_level0_row1\" class=\"row_heading level0 row1\" >JHUCXEHE</th>\n",
       "      <td id=\"T_3f67c_row1_col0\" class=\"data row1 col0\" >-0.50%</td>\n",
       "    </tr>\n",
       "    <tr>\n",
       "      <th id=\"T_3f67c_level0_row2\" class=\"row_heading level0 row2\" >JEEXXITE</th>\n",
       "      <td id=\"T_3f67c_row2_col0\" class=\"data row2 col0\" >-0.21%</td>\n",
       "    </tr>\n",
       "    <tr>\n",
       "      <th id=\"T_3f67c_level0_row3\" class=\"row_heading level0 row3\" >ER00</th>\n",
       "      <td id=\"T_3f67c_row3_col0\" class=\"data row3 col0\" >1.53%</td>\n",
       "    </tr>\n",
       "    <tr>\n",
       "      <th id=\"T_3f67c_level0_row4\" class=\"row_heading level0 row4\" >GCXZ</th>\n",
       "      <td id=\"T_3f67c_row4_col0\" class=\"data row4 col0\" >2.12%</td>\n",
       "    </tr>\n",
       "    <tr>\n",
       "      <th id=\"T_3f67c_level0_row5\" class=\"row_heading level0 row5\" >NDDLEMU</th>\n",
       "      <td id=\"T_3f67c_row5_col0\" class=\"data row5 col0\" >14.92%</td>\n",
       "    </tr>\n",
       "    <tr>\n",
       "      <th id=\"T_3f67c_level0_row6\" class=\"row_heading level0 row6\" >MXWOHEUR</th>\n",
       "      <td id=\"T_3f67c_row6_col0\" class=\"data row6 col0\" >11.10%</td>\n",
       "    </tr>\n",
       "  </tbody>\n",
       "</table>\n"
      ],
      "text/plain": [
       "<pandas.io.formats.style.Styler at 0x27a18e73cd0>"
      ]
     },
     "execution_count": 60,
     "metadata": {},
     "output_type": "execute_result"
    }
   ],
   "source": [
    "bl_excess_returns.style.format({\n",
    "    'Expected return': '{:,.2%}'.format,\n",
    "})"
   ]
  },
  {
   "cell_type": "code",
   "execution_count": null,
   "id": "da55c661-6fe5-421c-aa42-b14e7fcb8165",
   "metadata": {},
   "outputs": [],
   "source": []
  }
 ],
 "metadata": {
  "kernelspec": {
   "display_name": "Python 3 (ipykernel)",
   "language": "python",
   "name": "python3"
  },
  "language_info": {
   "codemirror_mode": {
    "name": "ipython",
    "version": 3
   },
   "file_extension": ".py",
   "mimetype": "text/x-python",
   "name": "python",
   "nbconvert_exporter": "python",
   "pygments_lexer": "ipython3",
   "version": "3.11.1"
  }
 },
 "nbformat": 4,
 "nbformat_minor": 5
}
